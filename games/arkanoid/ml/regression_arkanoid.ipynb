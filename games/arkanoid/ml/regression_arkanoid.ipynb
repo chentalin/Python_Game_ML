{
 "cells": [
  {
   "cell_type": "code",
   "execution_count": 1,
   "metadata": {},
   "outputs": [
    {
     "name": "stdout",
     "output_type": "stream",
     "text": [
      "[[  1.           2.           3.         ...   5.           6.\n",
      "    7.        ]\n",
      " [  0.           0.          93.         ...  75.           0.\n",
      "   90.17721519]\n",
      " [ 93.         395.         100.         ...  75.           1.\n",
      "   82.        ]\n",
      " ...\n",
      " [126.          87.         133.         ... 160.           2.\n",
      "  193.        ]\n",
      " [133.          80.         140.         ... 160.           0.\n",
      "  185.        ]\n",
      " [140.          73.         147.         ... 160.           2.\n",
      "  189.        ]]\n",
      "(23826, 7)\n"
     ]
    }
   ],
   "source": [
    "import pickle\n",
    "import numpy as np\n",
    "from sklearn.linear_model import LinearRegression\n",
    "from sklearn import preprocessing\n",
    "from sklearn import datasets, metrics\n",
    "from sklearn.model_selection import train_test_split, cross_val_score\n",
    "from sklearn.metrics import  classification_report, confusion_matrix\n",
    "from sklearn.model_selection import GridSearchCV\n",
    "from sklearn.model_selection import StratifiedShuffleSplit\n",
    "\n",
    "#試取資料\n",
    "file = open(\"feature/arkanoid_N5_20200824_10.pkl\", \"rb\")\n",
    "test = pickle.load(file)\n",
    "file.close()\n",
    "\n",
    "print(test)\n",
    "print(test.shape)"
   ]
  },
  {
   "cell_type": "code",
   "execution_count": 2,
   "metadata": {},
   "outputs": [
    {
     "name": "stdout",
     "output_type": "stream",
     "text": [
      "[[ 93. 395. 100. ...  75.   1.  82.]\n",
      " [100. 388. 107. ...  70.   0.  87.]\n",
      " [107. 381. 114. ...  70.   1.  82.]\n",
      " ...\n",
      " [174.  42. 167. ... 150.   0. 176.]\n",
      " [167.  49. 160. ... 155.   0. 179.]\n",
      " [160.  56. 153. ... 155.   2. 188.]]\n",
      "[[  0. 199.   7. ... 160.   2. 196.]\n",
      " [182.  77. 189. ... 110.   1. 121.]\n",
      " [119. 374. 126. ...  75.   0.  89.]\n",
      " ...\n",
      " [  7. 315.  14. ...  65.   2.  93.]\n",
      " [  0.  59.   7. ...  65.   1.  48.]\n",
      " [174. 333. 167. ...  85.   2. 113.]]\n",
      "(771673, 7)\n"
     ]
    }
   ],
   "source": [
    "## 初始化feature\n",
    "feature = np.array([1, 2, 3, 4, 5, 6, 7])\n",
    "#將所有矩陣疊加\n",
    "for i in range(1, 11):\n",
    "    path = \"feature/arkanoid_N5_20200824_\"+str(i*10)+\".pkl\"\n",
    "    file = open(path, \"rb\")\n",
    "    tmp = pickle.load(file)\n",
    "    #去除前兩筆資料後疊加\n",
    "    feature = np.vstack((feature, tmp[2:]))\n",
    "    file.close()\n",
    "for i in range(1, 11):\n",
    "    path = \"feature/arkanoid_N3_20200824_\"+str(i*10)+\".pkl\"\n",
    "    file = open(path, \"rb\")\n",
    "    tmp = pickle.load(file)\n",
    "    #去除前兩筆資料後疊加\n",
    "    feature = np.vstack((feature, tmp[2:]))\n",
    "    file.close()\n",
    "for i in range(1, 6):\n",
    "    path = \"feature/arkanoid_E5_20200824_\"+str(i*10)+\".pkl\"\n",
    "    file = open(path, \"rb\")\n",
    "    tmp = pickle.load(file)\n",
    "    #去除前兩筆資料後疊加\n",
    "    feature = np.vstack((feature, tmp[2:]))\n",
    "    file.close()\n",
    "for i in range(1, 6):\n",
    "    path = \"feature/arkanoid_E3_20200824_\"+str(i*10)+\".pkl\"\n",
    "    file = open(path, \"rb\")\n",
    "    tmp = pickle.load(file)\n",
    "    #去除前兩筆資料後疊加\n",
    "    feature = np.vstack((feature, tmp[2:]))\n",
    "    file.close()\n",
    "\n",
    "\n",
    "#要去除第一筆資料並洗牌\n",
    "feature = feature[1:]\n",
    "print(feature)\n",
    "#列洗牌\n",
    "np.random.seed(5)\n",
    "np.random.shuffle(feature)\n",
    "np.random.seed(97)\n",
    "np.random.shuffle(feature)\n",
    "np.random.seed(44)\n",
    "np.random.shuffle(feature)\n",
    "print(feature)\n",
    "\n",
    "#顯示資料數\n",
    "print(feature.shape)"
   ]
  },
  {
   "cell_type": "code",
   "execution_count": 3,
   "metadata": {},
   "outputs": [
    {
     "name": "stdout",
     "output_type": "stream",
     "text": [
      "[[  0. 199.   7. 192.]\n",
      " [182.  77. 189.  84.]\n",
      " [119. 374. 126. 367.]\n",
      " ...\n",
      " [  7. 315.  14. 322.]\n",
      " [  0.  59.   7.  52.]\n",
      " [174. 333. 167. 340.]]\n",
      "(771673, 4)\n",
      "[196. 121.  89. ...  93.  48. 113.]\n",
      "(771673,)\n"
     ]
    }
   ],
   "source": [
    "#[上一楨球的x, 上一楨球的y, x, y, 平台x值, 平台移動模式, 平台正確x值]\n",
    "#取出lightgbm需要的特徵(x_data)和對應的解(y_data)\n",
    "#濾掉平台正確x值\n",
    "x_data = feature[:, 0:4]\n",
    "print(x_data)\n",
    "print(x_data.shape)\n",
    "\n",
    "y_data = feature[:, 6]\n",
    "#y_data = y_data.reshape(y_data.size, 1)\n",
    "print(y_data)\n",
    "print(y_data.shape)"
   ]
  },
  {
   "cell_type": "code",
   "execution_count": 4,
   "metadata": {},
   "outputs": [
    {
     "name": "stdout",
     "output_type": "stream",
     "text": [
      "[[  7.  -7.   7. 192.]\n",
      " [  7.   7. 189.  84.]\n",
      " [  7.  -7. 126. 367.]\n",
      " ...\n",
      " [  7.   7.  14. 322.]\n",
      " [  7.  -7.   7.  52.]\n",
      " [ -7.   7. 167. 340.]]\n",
      "(771673, 4)\n",
      "(771673,)\n"
     ]
    }
   ],
   "source": [
    "#現在球座標 - 先前球座標 = 方向 [可做可不做]\n",
    "x_data[0:, 0:2] = x_data[0:, 2:4] - x_data[0:, 0:2]\n",
    "print(x_data)\n",
    "print(x_data.shape)\n",
    "print(y_data.shape)"
   ]
  },
  {
   "cell_type": "code",
   "execution_count": 13,
   "metadata": {},
   "outputs": [
    {
     "name": "stdout",
     "output_type": "stream",
     "text": [
      "432996 170761 167916\n",
      "265080 2845 0\n",
      "total:  267925\n",
      "167916 167916 167916\n"
     ]
    }
   ],
   "source": [
    "#資料數量等化 [可做可不做]\n",
    "\n",
    "t0 = np.sum(y_data == 0)\n",
    "t1 = np.sum(y_data == 1)\n",
    "t2 = np.sum(y_data == 2)\n",
    "print(t0, t1, t2)\n",
    "\n",
    "#根據最小的值來做削減\n",
    "c0 = t0 - min(t0, t1, t2)\n",
    "c1 = t1 - min(t0, t1, t2)\n",
    "c2 = t2 - min(t0, t1, t2)\n",
    "print(c0, c1, c2)\n",
    "total = c0 + c1 + c2\n",
    "print(\"total: \", total)\n",
    "\n",
    "#由後往前，避免index改變\n",
    "for j in range(y_data.size-1, -1, -1):\n",
    "    print(c0 + c1 + c2, end='\\r')\n",
    "    if(y_data[j] == 0):\n",
    "        if(c0 != 0):\n",
    "            c0 -= 1\n",
    "            x_data = np.delete(x_data, j, axis = 0)\n",
    "            y_data = np.delete(y_data, j, axis = 0)\n",
    "    elif(y_data[j] == 1):\n",
    "        if(c1 != 0):\n",
    "            c1 -= 1\n",
    "            x_data = np.delete(x_data, j, axis = 0)\n",
    "            y_data = np.delete(y_data, j, axis = 0)\n",
    "    else:\n",
    "        if(c2 != 0):\n",
    "            c2 -= 1\n",
    "            x_data = np.delete(x_data, j, axis = 0)\n",
    "            y_data = np.delete(y_data, j, axis = 0)\n",
    "            \n",
    "    if(c0==0 and c1==0 and c2==0):\n",
    "        break\n",
    "\n",
    "f0 = np.sum(y_data == 0)\n",
    "f1 = np.sum(y_data == 1)\n",
    "f2 = np.sum(y_data == 2)\n",
    "print(f0, f1, f2)"
   ]
  },
  {
   "cell_type": "code",
   "execution_count": 24,
   "metadata": {},
   "outputs": [],
   "source": [
    "#資料標準化 [可做可不做]\n",
    "# x_data = preprocessing.scale(x_data)\n",
    "# print(x_data)"
   ]
  },
  {
   "cell_type": "code",
   "execution_count": 7,
   "metadata": {},
   "outputs": [
    {
     "name": "stdout",
     "output_type": "stream",
     "text": [
      "[[  7.  -7.   7. 192.]\n",
      " [  7.   7. 189.  84.]\n",
      " [  7.  -7. 126. 367.]\n",
      " ...\n",
      " [  7.   7.  14. 322.]\n",
      " [  7.  -7.   7.  52.]\n",
      " [ -7.   7. 167. 340.]]\n",
      "(771673, 4)\n",
      "[196. 121.  89. ...  93.  48. 113.]\n",
      "(771673,)\n"
     ]
    }
   ],
   "source": [
    "#訓練前最後資料狀愾確認\n",
    "print(x_data)\n",
    "print(x_data.shape)\n",
    "print(y_data)\n",
    "print(y_data.shape)\n",
    "\n",
    "#儲存陣列\n",
    "# file = open('arkanoid_N5N3E5E3_20200824_perpared_x_data.pkl', 'wb')\n",
    "# pickle.dump(x_data, file)\n",
    "# file.close()\n",
    "# file = open('arkanoid_N5N3E5E3_20200824_perpared_y_data.pkl', 'wb')\n",
    "# pickle.dump(y_data, file)\n",
    "# file.close()"
   ]
  },
  {
   "cell_type": "code",
   "execution_count": 5,
   "metadata": {},
   "outputs": [
    {
     "name": "stdout",
     "output_type": "stream",
     "text": [
      "3076.3238388568484\n",
      "0.0015503591643665215\n",
      "0.0015331071111505295\n"
     ]
    }
   ],
   "source": [
    "#資料劃分\n",
    "x_train, x_test, y_train, y_test = train_test_split(x_data, y_data, test_size=0.3, random_state=9)\n",
    "lm = LinearRegression()\n",
    "lm.fit(x_train, y_train)\n",
    "\n",
    "# 模型績效\n",
    "mse = np.mean((lm.predict(x_test) - y_test) ** 2)\n",
    "r_squared = lm.score(x_test, y_test)\n",
    "adj_r_squared = r_squared - (1 - r_squared) * (x_test.shape[1] / (x_test.shape[0] - x_test.shape[1] - 1))\n",
    "\n",
    "# 印出模型績效\n",
    "print(mse)\n",
    "print(r_squared)\n",
    "print(adj_r_squared)"
   ]
  },
  {
   "cell_type": "code",
   "execution_count": 6,
   "metadata": {},
   "outputs": [],
   "source": [
    "#儲存\n",
    "file = open('arkanoid_N5_20200902_regression_model.pkl', 'wb')\n",
    "pickle.dump(lm, file)\n",
    "file.close()"
   ]
  },
  {
   "cell_type": "code",
   "execution_count": 8,
   "metadata": {},
   "outputs": [
    {
     "data": {
      "text/plain": [
       "-635.0603016245055"
      ]
     },
     "execution_count": 8,
     "metadata": {},
     "output_type": "execute_result"
    }
   ],
   "source": [
    "from sklearn.metrics import r2_score\n",
    "r2_score(lm.predict(x_test),y_test)"
   ]
  }
 ],
 "metadata": {
  "kernelspec": {
   "display_name": "Python 3",
   "language": "python",
   "name": "python3"
  },
  "language_info": {
   "codemirror_mode": {
    "name": "ipython",
    "version": 3
   },
   "file_extension": ".py",
   "mimetype": "text/x-python",
   "name": "python",
   "nbconvert_exporter": "python",
   "pygments_lexer": "ipython3",
   "version": "3.8.3"
  }
 },
 "nbformat": 4,
 "nbformat_minor": 4
}
