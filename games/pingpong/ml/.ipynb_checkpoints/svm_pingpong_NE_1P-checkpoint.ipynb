{
 "cells": [
  {
   "cell_type": "markdown",
   "metadata": {},
   "source": [
    "# 1P"
   ]
  },
  {
   "cell_type": "code",
   "execution_count": 1,
   "metadata": {},
   "outputs": [
    {
     "name": "stdout",
     "output_type": "stream",
     "text": [
      "[[  0.  -7.  -7. ...  80.   2. 102.]\n",
      " [  0.  -7.  -7. ...  85.   1. 104.]\n",
      " [  0.  -7.  -7. ...  90.   2. 104.]\n",
      " ...\n",
      " [  0.  16. -16. ...  55.   2.  96.]\n",
      " [  0. -16. -16. ...  50.   1.  13.]\n",
      " [  0. -16. -16. ...  45.   1.  12.]]\n"
     ]
    }
   ],
   "source": [
    "import numpy as np\n",
    "import pickle\n",
    "\n",
    "## 初始化feature\n",
    "feature = np.array([1, 2, 3, 4, 5, 6, 7, 8, 9])\n",
    "#將所有矩陣疊加\n",
    "for i in range(1, 101):\n",
    "    path = \"feature/pingpong_N_20200824_1P_\"+str(i)+\".pkl\"\n",
    "    file = open(path, \"rb\")\n",
    "    tmp = pickle.load(file)\n",
    "    #去除前兩筆資料後疊加\n",
    "    feature = np.vstack((feature, tmp[1:]))\n",
    "    file.close()\n",
    "for i in range(0, 50):\n",
    "    path = \"feature/pingpong_E_20200825_1P_\"+str(i%4+1)+\".pkl\"\n",
    "    file = open(path, \"rb\")\n",
    "    tmp = pickle.load(file)\n",
    "    #去除前兩筆資料後疊加\n",
    "    feature = np.vstack((feature, tmp[1:]))\n",
    "    file.close()\n",
    "\n",
    "#[side, 方向x, 方向y, x, y, 1P平台, 2P平台, command, 預測平台x]\n",
    "feature = feature[1:]\n",
    "print(feature)"
   ]
  },
  {
   "cell_type": "code",
   "execution_count": 2,
   "metadata": {},
   "outputs": [
    {
     "name": "stdout",
     "output_type": "stream",
     "text": [
      "[[  0.          18.         -18.         ...  60.           2.\n",
      "  133.        ]\n",
      " [  0.           8.          -8.         ...  45.           1.\n",
      "   18.        ]\n",
      " [  0.         -15.          15.         ... 160.           1.\n",
      "  147.        ]\n",
      " ...\n",
      " [  0.         -11.           8.         ...  10.           1.\n",
      "   46.5       ]\n",
      " [  0.          17.         -17.         ...  70.           2.\n",
      "  146.        ]\n",
      " [  0.          24.         -21.         ...  50.           1.\n",
      "   58.42857143]]\n",
      "(229530, 9)\n"
     ]
    }
   ],
   "source": [
    "#列洗牌\n",
    "np.random.seed(5)\n",
    "np.random.shuffle(feature)\n",
    "np.random.seed(97)\n",
    "np.random.shuffle(feature)\n",
    "np.random.seed(44)\n",
    "np.random.shuffle(feature)\n",
    "print(feature)\n",
    "\n",
    "#顯示資料數\n",
    "print(feature.shape)"
   ]
  },
  {
   "cell_type": "code",
   "execution_count": 3,
   "metadata": {},
   "outputs": [
    {
     "name": "stdout",
     "output_type": "stream",
     "text": [
      "[[ 18. -18.  54. 109. 110.]\n",
      " [  8.  -8. 151. 250.   0.]\n",
      " [-15.  15.  30. 245. 130.]\n",
      " ...\n",
      " [-11.   8.  19.  88.  90.]\n",
      " [ 17. -17.  85.  92. 125.]\n",
      " [ 24. -21.  24. 108.  45.]]\n",
      "(229530, 5)\n",
      "[2. 1. 1. ... 1. 2. 1.]\n",
      "(229530,)\n"
     ]
    }
   ],
   "source": [
    "x_data = feature[:, 1:6]\n",
    "print(x_data)\n",
    "print(x_data.shape)\n",
    "\n",
    "y_data = feature[:, 7]\n",
    "#y_data = y_data.reshape(y_data.size, 1)\n",
    "print(y_data)\n",
    "print(y_data.shape)"
   ]
  },
  {
   "cell_type": "code",
   "execution_count": 4,
   "metadata": {},
   "outputs": [
    {
     "name": "stdout",
     "output_type": "stream",
     "text": [
      "117573 111957\n",
      "5616 0\n",
      "total:  5616\n",
      "111957 111957\n"
     ]
    }
   ],
   "source": [
    "#資料數量等化 [可做可不做]\n",
    "\n",
    "t1 = np.sum(y_data == 1)\n",
    "t2 = np.sum(y_data == 2)\n",
    "print(t1, t2)\n",
    "\n",
    "#根據最小的值來做削減\n",
    "c1 = t1 - min(t1, t2)\n",
    "c2 = t2 - min(t1, t2)\n",
    "print(c1, c2)\n",
    "total = c1 + c2\n",
    "print(\"total: \", total)\n",
    "\n",
    "#由後往前，避免index改變\n",
    "for j in range(y_data.size-1, -1, -1):\n",
    "    print(c1 + c2, end='\\r')\n",
    "    if(y_data[j] == 1):\n",
    "        if(c1 != 0):\n",
    "            c1 -= 1\n",
    "            x_data = np.delete(x_data, j, axis = 0)\n",
    "            y_data = np.delete(y_data, j, axis = 0)\n",
    "    else:\n",
    "        if(c2 != 0):\n",
    "            c2 -= 1\n",
    "            x_data = np.delete(x_data, j, axis = 0)\n",
    "            y_data = np.delete(y_data, j, axis = 0)\n",
    "            \n",
    "    if(c1==0 and c2==0):\n",
    "        break\n",
    "\n",
    "f1 = np.sum(y_data == 1)\n",
    "f2 = np.sum(y_data == 2)\n",
    "print(f1, f2)"
   ]
  },
  {
   "cell_type": "code",
   "execution_count": null,
   "metadata": {},
   "outputs": [
    {
     "name": "stdout",
     "output_type": "stream",
     "text": [
      "Fitting 1 folds for each of 4 candidates, totalling 4 fits\n",
      "[CV] C=0.1, gamma=0.01, kernel=rbf ...................................\n"
     ]
    },
    {
     "name": "stderr",
     "output_type": "stream",
     "text": [
      "[Parallel(n_jobs=1)]: Using backend SequentialBackend with 1 concurrent workers.\n"
     ]
    }
   ],
   "source": [
    "import pickle\n",
    "import numpy as np\n",
    "from sklearn import preprocessing\n",
    "from sklearn import datasets, svm, metrics\n",
    "from sklearn.model_selection import train_test_split, cross_val_score\n",
    "from sklearn.metrics import  classification_report, confusion_matrix\n",
    "from sklearn.model_selection import GridSearchCV\n",
    "from sklearn.model_selection import StratifiedShuffleSplit\n",
    "\n",
    "#資料劃分\n",
    "x_train, x_test, y_train, y_test = train_test_split(x_data, y_data, test_size=0.3, random_state=9)\n",
    "#參數區間\n",
    "param_grid = {'C': [0.1, 1, 10], 'gamma':[0.1 ,0.01], 'kernel': ['rbf']}\n",
    "#交叉驗證\n",
    "cv = StratifiedShuffleSplit(n_splits=1, test_size=0.3, random_state=12)\n",
    "grid = GridSearchCV(svm.SVC(), param_grid, cv=cv, verbose=10)\n",
    "grid.fit(x_train, y_train)\n",
    "grid_predictions = grid.predict(x_test)\n",
    "#儲存\n",
    "file = open('pingpong_N_20200824_1P_svm_model.pkl', 'wb')\n",
    "pickle.dump(grid, file)\n",
    "file.close()"
   ]
  },
  {
   "cell_type": "code",
   "execution_count": 17,
   "metadata": {},
   "outputs": [
    {
     "name": "stdout",
     "output_type": "stream",
     "text": [
      "{'C': 1, 'gamma': 0.01, 'kernel': 'rbf'}\n",
      "[[21685  4845]\n",
      " [ 4483 21964]]\n",
      "              precision    recall  f1-score   support\n",
      "\n",
      "         1.0       0.83      0.82      0.82     26530\n",
      "         2.0       0.82      0.83      0.82     26447\n",
      "\n",
      "    accuracy                           0.82     52977\n",
      "   macro avg       0.82      0.82      0.82     52977\n",
      "weighted avg       0.82      0.82      0.82     52977\n",
      "\n"
     ]
    }
   ],
   "source": [
    "#最佳參數\n",
    "print(grid.best_params_)\n",
    "#預測結果\n",
    "#print(grid_predictions)\n",
    "#混淆矩陣\n",
    "print(confusion_matrix(y_test, grid_predictions))\n",
    "#分類結果\n",
    "print(classification_report(y_test, grid_predictions))"
   ]
  }
 ],
 "metadata": {
  "kernelspec": {
   "display_name": "Python 3",
   "language": "python",
   "name": "python3"
  },
  "language_info": {
   "codemirror_mode": {
    "name": "ipython",
    "version": 3
   },
   "file_extension": ".py",
   "mimetype": "text/x-python",
   "name": "python",
   "nbconvert_exporter": "python",
   "pygments_lexer": "ipython3",
   "version": "3.8.3"
  }
 },
 "nbformat": 4,
 "nbformat_minor": 4
}
