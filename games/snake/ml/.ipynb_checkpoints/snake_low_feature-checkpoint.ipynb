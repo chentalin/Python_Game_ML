{
 "cells": [
  {
   "cell_type": "code",
   "execution_count": 1,
   "metadata": {},
   "outputs": [],
   "source": [
    "import pickle\n",
    "import numpy as np\n",
    "from sklearn import preprocessing\n",
    "from sklearn import datasets, svm, metrics\n",
    "from sklearn.model_selection import train_test_split, cross_val_score\n",
    "from sklearn.metrics import  classification_report, confusion_matrix\n",
    "from sklearn.model_selection import GridSearchCV\n",
    "from sklearn.model_selection import StratifiedShuffleSplit"
   ]
  },
  {
   "cell_type": "code",
   "execution_count": 2,
   "metadata": {},
   "outputs": [
    {
     "name": "stdout",
     "output_type": "stream",
     "text": [
      "[(40, 30), (40, 20), (40, 10)]\n",
      "DOWN\n",
      "?\n"
     ]
    }
   ],
   "source": [
    "#試取資料\n",
    "file = open(\"../log/snake (1).pickle\", \"rb\")\n",
    "test = pickle.load(file)\n",
    "file.close()\n",
    "\n",
    "print(test['scene_info'][0]['snake_body'])\n",
    "print(test['command'][0])\n",
    "if (40,30) in test['scene_info'][0]['snake_body']:\n",
    "    print('?')"
   ]
  },
  {
   "cell_type": "code",
   "execution_count": 3,
   "metadata": {},
   "outputs": [
    {
     "name": "stdout",
     "output_type": "stream",
     "text": [
      "517\r"
     ]
    },
    {
     "ename": "FileNotFoundError",
     "evalue": "[Errno 2] No such file or directory: '../log/snake (517).pickle'",
     "output_type": "error",
     "traceback": [
      "\u001b[1;31m---------------------------------------------------------------------------\u001b[0m",
      "\u001b[1;31mFileNotFoundError\u001b[0m                         Traceback (most recent call last)",
      "\u001b[1;32m<ipython-input-3-80718de48ad4>\u001b[0m in \u001b[0;36m<module>\u001b[1;34m\u001b[0m\n\u001b[0;32m      4\u001b[0m \u001b[1;32mfor\u001b[0m \u001b[0mi\u001b[0m \u001b[1;32min\u001b[0m \u001b[0mrange\u001b[0m\u001b[1;33m(\u001b[0m\u001b[1;36m1\u001b[0m\u001b[1;33m,\u001b[0m \u001b[1;36m518\u001b[0m\u001b[1;33m)\u001b[0m\u001b[1;33m:\u001b[0m\u001b[1;33m\u001b[0m\u001b[1;33m\u001b[0m\u001b[0m\n\u001b[0;32m      5\u001b[0m     \u001b[0mprint\u001b[0m\u001b[1;33m(\u001b[0m\u001b[0mi\u001b[0m\u001b[1;33m,\u001b[0m \u001b[0mend\u001b[0m\u001b[1;33m=\u001b[0m\u001b[1;34m'\\r'\u001b[0m\u001b[1;33m)\u001b[0m\u001b[1;33m\u001b[0m\u001b[1;33m\u001b[0m\u001b[0m\n\u001b[1;32m----> 6\u001b[1;33m     \u001b[0mfile\u001b[0m \u001b[1;33m=\u001b[0m \u001b[0mopen\u001b[0m\u001b[1;33m(\u001b[0m\u001b[1;34m\"../log/snake (\"\u001b[0m\u001b[1;33m+\u001b[0m\u001b[0mstr\u001b[0m\u001b[1;33m(\u001b[0m\u001b[0mi\u001b[0m\u001b[1;33m)\u001b[0m\u001b[1;33m+\u001b[0m\u001b[1;34m\").pickle\"\u001b[0m\u001b[1;33m,\u001b[0m \u001b[1;34m\"rb\"\u001b[0m\u001b[1;33m)\u001b[0m\u001b[1;33m\u001b[0m\u001b[1;33m\u001b[0m\u001b[0m\n\u001b[0m\u001b[0;32m      7\u001b[0m     \u001b[0mtmp\u001b[0m \u001b[1;33m=\u001b[0m \u001b[0mpickle\u001b[0m\u001b[1;33m.\u001b[0m\u001b[0mload\u001b[0m\u001b[1;33m(\u001b[0m\u001b[0mfile\u001b[0m\u001b[1;33m)\u001b[0m\u001b[1;33m\u001b[0m\u001b[1;33m\u001b[0m\u001b[0m\n\u001b[0;32m      8\u001b[0m \u001b[1;33m\u001b[0m\u001b[0m\n",
      "\u001b[1;31mFileNotFoundError\u001b[0m: [Errno 2] No such file or directory: '../log/snake (517).pickle'"
     ]
    }
   ],
   "source": [
    "# feature [command ,蛇長, 蘋果x, 蘋果y, 蛇頭x, 蛇頭y, 上身, 下身, 左身, 右身]\n",
    "feature = np.array([1,2,3,4,5,6,7,8,9,10])\n",
    "\n",
    "for i in range(1, 517):\n",
    "    print(i, end='\\r')\n",
    "    file = open(\"../log/snake (\"+str(i)+\").pickle\", \"rb\")\n",
    "    tmp = pickle.load(file)\n",
    "\n",
    "    total = len(tmp['scene_info']);\n",
    "    #刪除吃到倒數第二顆蘋果果前的動作\n",
    "    last_apple = 0\n",
    "    f_len = len(tmp['scene_info'][total-1]['snake_body'])\n",
    "    for k in range(2, total):\n",
    "        if len(tmp['scene_info'][total-k]['snake_body']) < f_len:\n",
    "            last_apple = total - k\n",
    "            break\n",
    "    #print('last_apple', last_apple)\n",
    "    \n",
    "    f = np.array([1,2,3,4,5,6,7,8,9,10])\n",
    "    for j in range(0, last_apple):\n",
    "        y = 0\n",
    "        if tmp['command'][j] == 'DOWN': y = 1\n",
    "        elif tmp['command'][j] == 'UP': y = 2\n",
    "        elif tmp['command'][j] == 'RIGHT': y = 3\n",
    "        elif tmp['command'][j] == 'LEFT': y = 4\n",
    "        else: y = 5\n",
    "        \n",
    "        if y == 5: continue\n",
    "            \n",
    "        snake_length = len(tmp['scene_info'][j]['snake_body'])\n",
    "        apple_x = tmp['scene_info'][j]['food'][0]//10\n",
    "        apple_y = tmp['scene_info'][j]['food'][1]//10\n",
    "        head_x = tmp['scene_info'][j]['snake_head'][0]//10\n",
    "        head_y = tmp['scene_info'][j]['snake_head'][1]//10\n",
    "        \n",
    "        ub = 0\n",
    "        count = 0\n",
    "        for k in range(head_y-1, 0, -1):\n",
    "            count += 1\n",
    "            if (head_x*10, k*10) in tmp['scene_info'][j]['snake_body']:\n",
    "                ub = count\n",
    "                break\n",
    "        \n",
    "        db = 0\n",
    "        count = 0\n",
    "        for k in range(head_y+1, 30, 1):\n",
    "            count += 1\n",
    "            if (head_x*10, k*10) in tmp['scene_info'][j]['snake_body']:\n",
    "                db = count\n",
    "                break\n",
    "                \n",
    "        lb = 0\n",
    "        count = 0\n",
    "        for k in range(head_x-1, 0, -1):\n",
    "            count += 1\n",
    "            if (k*10, head_y*10) in tmp['scene_info'][j]['snake_body']:\n",
    "                lb = count\n",
    "                break\n",
    "                \n",
    "        rb = 0\n",
    "        count = 0\n",
    "        for k in range(head_x+1, 30, 1):\n",
    "            count += 1\n",
    "            if (k*10, head_y*10) in tmp['scene_info'][j]['snake_body']:\n",
    "                rb = count\n",
    "                break\n",
    "                \n",
    "        #print([y, snake_length, apple_x, apple_y, head_x, head_y, ub, db, lb, rb])\n",
    "        f = np.vstack((f, np.array([y, snake_length, apple_x, apple_y, head_x, head_y, ub, db, lb, rb])))\n",
    "    \n",
    "    #print(feature)\n",
    "    #print(f)\n",
    "    feature = np.vstack((feature, f[1:]))\n",
    "        \n",
    "print(feature)"
   ]
  },
  {
   "cell_type": "code",
   "execution_count": 15,
   "metadata": {},
   "outputs": [
    {
     "name": "stdout",
     "output_type": "stream",
     "text": [
      "(199002, 10)\n"
     ]
    }
   ],
   "source": [
    "feature = feature[1:]\n",
    "print(feature.shape)"
   ]
  },
  {
   "cell_type": "code",
   "execution_count": 17,
   "metadata": {},
   "outputs": [
    {
     "name": "stdout",
     "output_type": "stream",
     "text": [
      "[[ 2  7  1 ...  0  0  1]\n",
      " [ 3  7 22 ...  1  0  0]\n",
      " [ 2 38 22 ...  1 20  0]\n",
      " ...\n",
      " [ 2 26 19 ...  1  0  0]\n",
      " [ 1 37  8 ...  0  0  1]\n",
      " [ 4 16  3 ...  0  0  0]]\n",
      "(199002, 10)\n",
      "[[ 7  1  8 ...  0  0  1]\n",
      " [ 7 22 17 ...  1  0  0]\n",
      " [38 22  2 ...  1 20  0]\n",
      " ...\n",
      " [26 19  5 ...  1  0  0]\n",
      " [37  8 21 ...  0  0  1]\n",
      " [16  3 25 ...  0  0  0]]\n",
      "(199002, 9)\n",
      "[2 3 2 ... 2 1 4]\n",
      "(199002,)\n"
     ]
    }
   ],
   "source": [
    "#列洗牌\n",
    "np.random.seed(5)\n",
    "np.random.shuffle(feature)\n",
    "np.random.seed(97)\n",
    "np.random.shuffle(feature)\n",
    "np.random.seed(44)\n",
    "np.random.shuffle(feature)\n",
    "print(feature)\n",
    "\n",
    "#顯示資料數\n",
    "print(feature.shape)\n",
    "\n",
    "x_data = feature[:, 1:]\n",
    "print(x_data)\n",
    "print(x_data.shape)\n",
    "y_data = feature[:, 0]\n",
    "print(y_data)\n",
    "print(y_data.shape)"
   ]
  },
  {
   "cell_type": "code",
   "execution_count": 18,
   "metadata": {},
   "outputs": [
    {
     "name": "stdout",
     "output_type": "stream",
     "text": [
      "51299 49433 50157 48105\n"
     ]
    }
   ],
   "source": [
    "t0 = np.sum(y_data == 1)\n",
    "t1 = np.sum(y_data == 2)\n",
    "t2 = np.sum(y_data == 3)\n",
    "t3 = np.sum(y_data == 4)\n",
    "print(t0, t1, t2, t3)"
   ]
  },
  {
   "cell_type": "code",
   "execution_count": 19,
   "metadata": {},
   "outputs": [],
   "source": [
    "#儲存陣列\n",
    "file = open('snake_20200827_perpared_x_data_9_feature.pkl', 'wb')\n",
    "pickle.dump(x_data, file)\n",
    "file.close()\n",
    "file = open('snake_20200827_perpared_y_data_9_feature.pkl', 'wb')\n",
    "pickle.dump(y_data, file)\n",
    "file.close()"
   ]
  },
  {
   "cell_type": "code",
   "execution_count": null,
   "metadata": {},
   "outputs": [],
   "source": [
    "#資料劃分\n",
    "x_train, x_test, y_train, y_test = train_test_split(x_data, y_data, test_size=0.2, random_state=9)\n",
    "#參數區間\n",
    "param_grid = {'C': [0.1, 1], 'gamma':[0.001, 0.1], 'kernel': ['rbf']}\n",
    "#交叉驗證 n_splits多可以驗證資料的一致性，但浪費時間效益不大\n",
    "cv = StratifiedShuffleSplit(n_splits=1, test_size=0.2, random_state=12)\n",
    "grid = GridSearchCV(svm.SVC(), param_grid, cv=cv, verbose=10, n_jobs=-1)\n",
    "grid.fit(x_train, y_train)\n",
    "grid_predictions = grid.predict(x_test)\n",
    "\n",
    "#儲存\n",
    "file = open('snake_20200827_data_9_feature_svm_model.pkl', 'wb')\n",
    "pickle.dump(grid, file)\n",
    "file.close()"
   ]
  }
 ],
 "metadata": {
  "kernelspec": {
   "display_name": "Python 3",
   "language": "python",
   "name": "python3"
  },
  "language_info": {
   "codemirror_mode": {
    "name": "ipython",
    "version": 3
   },
   "file_extension": ".py",
   "mimetype": "text/x-python",
   "name": "python",
   "nbconvert_exporter": "python",
   "pygments_lexer": "ipython3",
   "version": "3.8.3"
  }
 },
 "nbformat": 4,
 "nbformat_minor": 4
}
